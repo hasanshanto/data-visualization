{
  "nbformat": 4,
  "nbformat_minor": 0,
  "metadata": {
    "colab": {
      "name": "Data viz (barchart and heatmap).ipynb",
      "provenance": [],
      "toc_visible": true,
      "collapsed_sections": []
    },
    "kernelspec": {
      "name": "python3",
      "display_name": "Python 3"
    },
    "language_info": {
      "name": "python"
    }
  },
  "cells": [
    {
      "cell_type": "code",
      "execution_count": 1,
      "metadata": {
        "colab": {
          "base_uri": "https://localhost:8080/"
        },
        "id": "wV6_OXVASkJy",
        "outputId": "fa7aed3c-33f8-451f-c333-e0b455a3dda6"
      },
      "outputs": [
        {
          "output_type": "stream",
          "name": "stdout",
          "text": [
            "Mounted at /content/gdrive\n"
          ]
        }
      ],
      "source": [
        "from google.colab import drive \n",
        "drive.mount('/content/gdrive')"
      ]
    },
    {
      "cell_type": "code",
      "source": [
        "import pandas as pd\n",
        "pd.plotting.register_matplotlib_converters()\n",
        "import matplotlib.pyplot as plt\n",
        "%matplotlib inline\n",
        "import seaborn as sns\n",
        "print(\"Setup Complete\")"
      ],
      "metadata": {
        "colab": {
          "base_uri": "https://localhost:8080/"
        },
        "id": "WndG4z_2ddfg",
        "outputId": "f351afe1-8e1e-423c-e15d-6b11baaad7af"
      },
      "execution_count": 2,
      "outputs": [
        {
          "output_type": "stream",
          "name": "stdout",
          "text": [
            "Setup Complete\n"
          ]
        }
      ]
    },
    {
      "cell_type": "code",
      "source": [
        "ign_filepath = 'gdrive/My Drive/ign_scores.csv'\n",
        "ign_data = pd.read_csv(ign_filepath, index_col= \"Platform\")\n"
      ],
      "metadata": {
        "id": "oG9lk_HCdgAB"
      },
      "execution_count": 3,
      "outputs": []
    },
    {
      "cell_type": "code",
      "source": [
        "ign_data.head()"
      ],
      "metadata": {
        "colab": {
          "base_uri": "https://localhost:8080/",
          "height": 316
        },
        "id": "qQ7bV0LWdrBG",
        "outputId": "5fbfab9b-6074-403d-9f7a-8159e006ee23"
      },
      "execution_count": 4,
      "outputs": [
        {
          "output_type": "execute_result",
          "data": {
            "text/plain": [
              "                    Action  Action, Adventure  Adventure  Fighting  \\\n",
              "Platform                                                             \n",
              "Dreamcast         6.882857           7.511111   6.281818  8.200000   \n",
              "Game Boy Advance  6.373077           7.507692   6.057143  6.226316   \n",
              "Game Boy Color    6.272727           8.166667   5.307692  4.500000   \n",
              "GameCube          6.532584           7.608333   6.753846  7.422222   \n",
              "Nintendo 3DS      6.670833           7.481818   7.414286  6.614286   \n",
              "\n",
              "                  Platformer    Puzzle       RPG    Racing   Shooter  \\\n",
              "Platform                                                               \n",
              "Dreamcast           8.340000  8.088889  7.700000  7.042500  7.616667   \n",
              "Game Boy Advance    6.970588  6.532143  7.542857  6.657143  6.444444   \n",
              "Game Boy Color      6.352941  6.583333  7.285714  5.897436  4.500000   \n",
              "GameCube            6.665714  6.133333  7.890909  6.852632  6.981818   \n",
              "Nintendo 3DS        7.503448  8.000000  7.719231  6.900000  7.033333   \n",
              "\n",
              "                  Simulation    Sports  Strategy  \n",
              "Platform                                          \n",
              "Dreamcast           7.628571  7.272222  6.433333  \n",
              "Game Boy Advance    6.928571  6.694444  7.175000  \n",
              "Game Boy Color      5.900000  5.790698  7.400000  \n",
              "GameCube            8.028571  7.481319  7.116667  \n",
              "Nintendo 3DS        7.700000  6.388889  7.900000  "
            ],
            "text/html": [
              "\n",
              "  <div id=\"df-b3407602-1770-4d47-9e33-6d55facbe812\">\n",
              "    <div class=\"colab-df-container\">\n",
              "      <div>\n",
              "<style scoped>\n",
              "    .dataframe tbody tr th:only-of-type {\n",
              "        vertical-align: middle;\n",
              "    }\n",
              "\n",
              "    .dataframe tbody tr th {\n",
              "        vertical-align: top;\n",
              "    }\n",
              "\n",
              "    .dataframe thead th {\n",
              "        text-align: right;\n",
              "    }\n",
              "</style>\n",
              "<table border=\"1\" class=\"dataframe\">\n",
              "  <thead>\n",
              "    <tr style=\"text-align: right;\">\n",
              "      <th></th>\n",
              "      <th>Action</th>\n",
              "      <th>Action, Adventure</th>\n",
              "      <th>Adventure</th>\n",
              "      <th>Fighting</th>\n",
              "      <th>Platformer</th>\n",
              "      <th>Puzzle</th>\n",
              "      <th>RPG</th>\n",
              "      <th>Racing</th>\n",
              "      <th>Shooter</th>\n",
              "      <th>Simulation</th>\n",
              "      <th>Sports</th>\n",
              "      <th>Strategy</th>\n",
              "    </tr>\n",
              "    <tr>\n",
              "      <th>Platform</th>\n",
              "      <th></th>\n",
              "      <th></th>\n",
              "      <th></th>\n",
              "      <th></th>\n",
              "      <th></th>\n",
              "      <th></th>\n",
              "      <th></th>\n",
              "      <th></th>\n",
              "      <th></th>\n",
              "      <th></th>\n",
              "      <th></th>\n",
              "      <th></th>\n",
              "    </tr>\n",
              "  </thead>\n",
              "  <tbody>\n",
              "    <tr>\n",
              "      <th>Dreamcast</th>\n",
              "      <td>6.882857</td>\n",
              "      <td>7.511111</td>\n",
              "      <td>6.281818</td>\n",
              "      <td>8.200000</td>\n",
              "      <td>8.340000</td>\n",
              "      <td>8.088889</td>\n",
              "      <td>7.700000</td>\n",
              "      <td>7.042500</td>\n",
              "      <td>7.616667</td>\n",
              "      <td>7.628571</td>\n",
              "      <td>7.272222</td>\n",
              "      <td>6.433333</td>\n",
              "    </tr>\n",
              "    <tr>\n",
              "      <th>Game Boy Advance</th>\n",
              "      <td>6.373077</td>\n",
              "      <td>7.507692</td>\n",
              "      <td>6.057143</td>\n",
              "      <td>6.226316</td>\n",
              "      <td>6.970588</td>\n",
              "      <td>6.532143</td>\n",
              "      <td>7.542857</td>\n",
              "      <td>6.657143</td>\n",
              "      <td>6.444444</td>\n",
              "      <td>6.928571</td>\n",
              "      <td>6.694444</td>\n",
              "      <td>7.175000</td>\n",
              "    </tr>\n",
              "    <tr>\n",
              "      <th>Game Boy Color</th>\n",
              "      <td>6.272727</td>\n",
              "      <td>8.166667</td>\n",
              "      <td>5.307692</td>\n",
              "      <td>4.500000</td>\n",
              "      <td>6.352941</td>\n",
              "      <td>6.583333</td>\n",
              "      <td>7.285714</td>\n",
              "      <td>5.897436</td>\n",
              "      <td>4.500000</td>\n",
              "      <td>5.900000</td>\n",
              "      <td>5.790698</td>\n",
              "      <td>7.400000</td>\n",
              "    </tr>\n",
              "    <tr>\n",
              "      <th>GameCube</th>\n",
              "      <td>6.532584</td>\n",
              "      <td>7.608333</td>\n",
              "      <td>6.753846</td>\n",
              "      <td>7.422222</td>\n",
              "      <td>6.665714</td>\n",
              "      <td>6.133333</td>\n",
              "      <td>7.890909</td>\n",
              "      <td>6.852632</td>\n",
              "      <td>6.981818</td>\n",
              "      <td>8.028571</td>\n",
              "      <td>7.481319</td>\n",
              "      <td>7.116667</td>\n",
              "    </tr>\n",
              "    <tr>\n",
              "      <th>Nintendo 3DS</th>\n",
              "      <td>6.670833</td>\n",
              "      <td>7.481818</td>\n",
              "      <td>7.414286</td>\n",
              "      <td>6.614286</td>\n",
              "      <td>7.503448</td>\n",
              "      <td>8.000000</td>\n",
              "      <td>7.719231</td>\n",
              "      <td>6.900000</td>\n",
              "      <td>7.033333</td>\n",
              "      <td>7.700000</td>\n",
              "      <td>6.388889</td>\n",
              "      <td>7.900000</td>\n",
              "    </tr>\n",
              "  </tbody>\n",
              "</table>\n",
              "</div>\n",
              "      <button class=\"colab-df-convert\" onclick=\"convertToInteractive('df-b3407602-1770-4d47-9e33-6d55facbe812')\"\n",
              "              title=\"Convert this dataframe to an interactive table.\"\n",
              "              style=\"display:none;\">\n",
              "        \n",
              "  <svg xmlns=\"http://www.w3.org/2000/svg\" height=\"24px\"viewBox=\"0 0 24 24\"\n",
              "       width=\"24px\">\n",
              "    <path d=\"M0 0h24v24H0V0z\" fill=\"none\"/>\n",
              "    <path d=\"M18.56 5.44l.94 2.06.94-2.06 2.06-.94-2.06-.94-.94-2.06-.94 2.06-2.06.94zm-11 1L8.5 8.5l.94-2.06 2.06-.94-2.06-.94L8.5 2.5l-.94 2.06-2.06.94zm10 10l.94 2.06.94-2.06 2.06-.94-2.06-.94-.94-2.06-.94 2.06-2.06.94z\"/><path d=\"M17.41 7.96l-1.37-1.37c-.4-.4-.92-.59-1.43-.59-.52 0-1.04.2-1.43.59L10.3 9.45l-7.72 7.72c-.78.78-.78 2.05 0 2.83L4 21.41c.39.39.9.59 1.41.59.51 0 1.02-.2 1.41-.59l7.78-7.78 2.81-2.81c.8-.78.8-2.07 0-2.86zM5.41 20L4 18.59l7.72-7.72 1.47 1.35L5.41 20z\"/>\n",
              "  </svg>\n",
              "      </button>\n",
              "      \n",
              "  <style>\n",
              "    .colab-df-container {\n",
              "      display:flex;\n",
              "      flex-wrap:wrap;\n",
              "      gap: 12px;\n",
              "    }\n",
              "\n",
              "    .colab-df-convert {\n",
              "      background-color: #E8F0FE;\n",
              "      border: none;\n",
              "      border-radius: 50%;\n",
              "      cursor: pointer;\n",
              "      display: none;\n",
              "      fill: #1967D2;\n",
              "      height: 32px;\n",
              "      padding: 0 0 0 0;\n",
              "      width: 32px;\n",
              "    }\n",
              "\n",
              "    .colab-df-convert:hover {\n",
              "      background-color: #E2EBFA;\n",
              "      box-shadow: 0px 1px 2px rgba(60, 64, 67, 0.3), 0px 1px 3px 1px rgba(60, 64, 67, 0.15);\n",
              "      fill: #174EA6;\n",
              "    }\n",
              "\n",
              "    [theme=dark] .colab-df-convert {\n",
              "      background-color: #3B4455;\n",
              "      fill: #D2E3FC;\n",
              "    }\n",
              "\n",
              "    [theme=dark] .colab-df-convert:hover {\n",
              "      background-color: #434B5C;\n",
              "      box-shadow: 0px 1px 3px 1px rgba(0, 0, 0, 0.15);\n",
              "      filter: drop-shadow(0px 1px 2px rgba(0, 0, 0, 0.3));\n",
              "      fill: #FFFFFF;\n",
              "    }\n",
              "  </style>\n",
              "\n",
              "      <script>\n",
              "        const buttonEl =\n",
              "          document.querySelector('#df-b3407602-1770-4d47-9e33-6d55facbe812 button.colab-df-convert');\n",
              "        buttonEl.style.display =\n",
              "          google.colab.kernel.accessAllowed ? 'block' : 'none';\n",
              "\n",
              "        async function convertToInteractive(key) {\n",
              "          const element = document.querySelector('#df-b3407602-1770-4d47-9e33-6d55facbe812');\n",
              "          const dataTable =\n",
              "            await google.colab.kernel.invokeFunction('convertToInteractive',\n",
              "                                                     [key], {});\n",
              "          if (!dataTable) return;\n",
              "\n",
              "          const docLinkHtml = 'Like what you see? Visit the ' +\n",
              "            '<a target=\"_blank\" href=https://colab.research.google.com/notebooks/data_table.ipynb>data table notebook</a>'\n",
              "            + ' to learn more about interactive tables.';\n",
              "          element.innerHTML = '';\n",
              "          dataTable['output_type'] = 'display_data';\n",
              "          await google.colab.output.renderOutput(dataTable, element);\n",
              "          const docLink = document.createElement('div');\n",
              "          docLink.innerHTML = docLinkHtml;\n",
              "          element.appendChild(docLink);\n",
              "        }\n",
              "      </script>\n",
              "    </div>\n",
              "  </div>\n",
              "  "
            ]
          },
          "metadata": {},
          "execution_count": 4
        }
      ]
    },
    {
      "cell_type": "code",
      "source": [
        "ign_data.tail()"
      ],
      "metadata": {
        "colab": {
          "base_uri": "https://localhost:8080/",
          "height": 281
        },
        "id": "3Ibj8XpBdtPm",
        "outputId": "4dbcb4dc-0686-46fd-cb3f-3abac9e783bf"
      },
      "execution_count": 5,
      "outputs": [
        {
          "output_type": "execute_result",
          "data": {
            "text/plain": [
              "            Action  Action, Adventure  Adventure  Fighting  Platformer  \\\n",
              "Platform                                                                 \n",
              "Wireless  7.041699           7.312500   6.972414  6.740000    7.509091   \n",
              "Xbox      6.819512           7.479032   6.821429  7.029630    7.303448   \n",
              "Xbox 360  6.719048           7.137838   6.857353  7.552239    7.559574   \n",
              "Xbox One  7.702857           7.566667   7.254545  7.171429    6.733333   \n",
              "iPhone    6.865445           7.764286   7.745833  6.087500    7.471930   \n",
              "\n",
              "            Puzzle       RPG    Racing   Shooter  Simulation    Sports  \\\n",
              "Platform                                                                 \n",
              "Wireless  7.360550  8.260000  6.898305  6.906780    7.802857  7.417699   \n",
              "Xbox      5.125000  8.277778  7.021591  7.485417    7.155556  7.884397   \n",
              "Xbox 360  7.141026  7.650000  6.996154  7.338153    7.325000  7.317857   \n",
              "Xbox One  8.100000  8.291667  8.163636  8.020000    7.733333  7.331818   \n",
              "iPhone    7.810784  7.185185  7.315789  6.995588    7.328571  7.152174   \n",
              "\n",
              "          Strategy  \n",
              "Platform            \n",
              "Wireless  7.542857  \n",
              "Xbox      7.313333  \n",
              "Xbox 360  7.112245  \n",
              "Xbox One  8.500000  \n",
              "iPhone    7.534921  "
            ],
            "text/html": [
              "\n",
              "  <div id=\"df-5756fcae-f53c-4be7-be21-eadd708b15cf\">\n",
              "    <div class=\"colab-df-container\">\n",
              "      <div>\n",
              "<style scoped>\n",
              "    .dataframe tbody tr th:only-of-type {\n",
              "        vertical-align: middle;\n",
              "    }\n",
              "\n",
              "    .dataframe tbody tr th {\n",
              "        vertical-align: top;\n",
              "    }\n",
              "\n",
              "    .dataframe thead th {\n",
              "        text-align: right;\n",
              "    }\n",
              "</style>\n",
              "<table border=\"1\" class=\"dataframe\">\n",
              "  <thead>\n",
              "    <tr style=\"text-align: right;\">\n",
              "      <th></th>\n",
              "      <th>Action</th>\n",
              "      <th>Action, Adventure</th>\n",
              "      <th>Adventure</th>\n",
              "      <th>Fighting</th>\n",
              "      <th>Platformer</th>\n",
              "      <th>Puzzle</th>\n",
              "      <th>RPG</th>\n",
              "      <th>Racing</th>\n",
              "      <th>Shooter</th>\n",
              "      <th>Simulation</th>\n",
              "      <th>Sports</th>\n",
              "      <th>Strategy</th>\n",
              "    </tr>\n",
              "    <tr>\n",
              "      <th>Platform</th>\n",
              "      <th></th>\n",
              "      <th></th>\n",
              "      <th></th>\n",
              "      <th></th>\n",
              "      <th></th>\n",
              "      <th></th>\n",
              "      <th></th>\n",
              "      <th></th>\n",
              "      <th></th>\n",
              "      <th></th>\n",
              "      <th></th>\n",
              "      <th></th>\n",
              "    </tr>\n",
              "  </thead>\n",
              "  <tbody>\n",
              "    <tr>\n",
              "      <th>Wireless</th>\n",
              "      <td>7.041699</td>\n",
              "      <td>7.312500</td>\n",
              "      <td>6.972414</td>\n",
              "      <td>6.740000</td>\n",
              "      <td>7.509091</td>\n",
              "      <td>7.360550</td>\n",
              "      <td>8.260000</td>\n",
              "      <td>6.898305</td>\n",
              "      <td>6.906780</td>\n",
              "      <td>7.802857</td>\n",
              "      <td>7.417699</td>\n",
              "      <td>7.542857</td>\n",
              "    </tr>\n",
              "    <tr>\n",
              "      <th>Xbox</th>\n",
              "      <td>6.819512</td>\n",
              "      <td>7.479032</td>\n",
              "      <td>6.821429</td>\n",
              "      <td>7.029630</td>\n",
              "      <td>7.303448</td>\n",
              "      <td>5.125000</td>\n",
              "      <td>8.277778</td>\n",
              "      <td>7.021591</td>\n",
              "      <td>7.485417</td>\n",
              "      <td>7.155556</td>\n",
              "      <td>7.884397</td>\n",
              "      <td>7.313333</td>\n",
              "    </tr>\n",
              "    <tr>\n",
              "      <th>Xbox 360</th>\n",
              "      <td>6.719048</td>\n",
              "      <td>7.137838</td>\n",
              "      <td>6.857353</td>\n",
              "      <td>7.552239</td>\n",
              "      <td>7.559574</td>\n",
              "      <td>7.141026</td>\n",
              "      <td>7.650000</td>\n",
              "      <td>6.996154</td>\n",
              "      <td>7.338153</td>\n",
              "      <td>7.325000</td>\n",
              "      <td>7.317857</td>\n",
              "      <td>7.112245</td>\n",
              "    </tr>\n",
              "    <tr>\n",
              "      <th>Xbox One</th>\n",
              "      <td>7.702857</td>\n",
              "      <td>7.566667</td>\n",
              "      <td>7.254545</td>\n",
              "      <td>7.171429</td>\n",
              "      <td>6.733333</td>\n",
              "      <td>8.100000</td>\n",
              "      <td>8.291667</td>\n",
              "      <td>8.163636</td>\n",
              "      <td>8.020000</td>\n",
              "      <td>7.733333</td>\n",
              "      <td>7.331818</td>\n",
              "      <td>8.500000</td>\n",
              "    </tr>\n",
              "    <tr>\n",
              "      <th>iPhone</th>\n",
              "      <td>6.865445</td>\n",
              "      <td>7.764286</td>\n",
              "      <td>7.745833</td>\n",
              "      <td>6.087500</td>\n",
              "      <td>7.471930</td>\n",
              "      <td>7.810784</td>\n",
              "      <td>7.185185</td>\n",
              "      <td>7.315789</td>\n",
              "      <td>6.995588</td>\n",
              "      <td>7.328571</td>\n",
              "      <td>7.152174</td>\n",
              "      <td>7.534921</td>\n",
              "    </tr>\n",
              "  </tbody>\n",
              "</table>\n",
              "</div>\n",
              "      <button class=\"colab-df-convert\" onclick=\"convertToInteractive('df-5756fcae-f53c-4be7-be21-eadd708b15cf')\"\n",
              "              title=\"Convert this dataframe to an interactive table.\"\n",
              "              style=\"display:none;\">\n",
              "        \n",
              "  <svg xmlns=\"http://www.w3.org/2000/svg\" height=\"24px\"viewBox=\"0 0 24 24\"\n",
              "       width=\"24px\">\n",
              "    <path d=\"M0 0h24v24H0V0z\" fill=\"none\"/>\n",
              "    <path d=\"M18.56 5.44l.94 2.06.94-2.06 2.06-.94-2.06-.94-.94-2.06-.94 2.06-2.06.94zm-11 1L8.5 8.5l.94-2.06 2.06-.94-2.06-.94L8.5 2.5l-.94 2.06-2.06.94zm10 10l.94 2.06.94-2.06 2.06-.94-2.06-.94-.94-2.06-.94 2.06-2.06.94z\"/><path d=\"M17.41 7.96l-1.37-1.37c-.4-.4-.92-.59-1.43-.59-.52 0-1.04.2-1.43.59L10.3 9.45l-7.72 7.72c-.78.78-.78 2.05 0 2.83L4 21.41c.39.39.9.59 1.41.59.51 0 1.02-.2 1.41-.59l7.78-7.78 2.81-2.81c.8-.78.8-2.07 0-2.86zM5.41 20L4 18.59l7.72-7.72 1.47 1.35L5.41 20z\"/>\n",
              "  </svg>\n",
              "      </button>\n",
              "      \n",
              "  <style>\n",
              "    .colab-df-container {\n",
              "      display:flex;\n",
              "      flex-wrap:wrap;\n",
              "      gap: 12px;\n",
              "    }\n",
              "\n",
              "    .colab-df-convert {\n",
              "      background-color: #E8F0FE;\n",
              "      border: none;\n",
              "      border-radius: 50%;\n",
              "      cursor: pointer;\n",
              "      display: none;\n",
              "      fill: #1967D2;\n",
              "      height: 32px;\n",
              "      padding: 0 0 0 0;\n",
              "      width: 32px;\n",
              "    }\n",
              "\n",
              "    .colab-df-convert:hover {\n",
              "      background-color: #E2EBFA;\n",
              "      box-shadow: 0px 1px 2px rgba(60, 64, 67, 0.3), 0px 1px 3px 1px rgba(60, 64, 67, 0.15);\n",
              "      fill: #174EA6;\n",
              "    }\n",
              "\n",
              "    [theme=dark] .colab-df-convert {\n",
              "      background-color: #3B4455;\n",
              "      fill: #D2E3FC;\n",
              "    }\n",
              "\n",
              "    [theme=dark] .colab-df-convert:hover {\n",
              "      background-color: #434B5C;\n",
              "      box-shadow: 0px 1px 3px 1px rgba(0, 0, 0, 0.15);\n",
              "      filter: drop-shadow(0px 1px 2px rgba(0, 0, 0, 0.3));\n",
              "      fill: #FFFFFF;\n",
              "    }\n",
              "  </style>\n",
              "\n",
              "      <script>\n",
              "        const buttonEl =\n",
              "          document.querySelector('#df-5756fcae-f53c-4be7-be21-eadd708b15cf button.colab-df-convert');\n",
              "        buttonEl.style.display =\n",
              "          google.colab.kernel.accessAllowed ? 'block' : 'none';\n",
              "\n",
              "        async function convertToInteractive(key) {\n",
              "          const element = document.querySelector('#df-5756fcae-f53c-4be7-be21-eadd708b15cf');\n",
              "          const dataTable =\n",
              "            await google.colab.kernel.invokeFunction('convertToInteractive',\n",
              "                                                     [key], {});\n",
              "          if (!dataTable) return;\n",
              "\n",
              "          const docLinkHtml = 'Like what you see? Visit the ' +\n",
              "            '<a target=\"_blank\" href=https://colab.research.google.com/notebooks/data_table.ipynb>data table notebook</a>'\n",
              "            + ' to learn more about interactive tables.';\n",
              "          element.innerHTML = '';\n",
              "          dataTable['output_type'] = 'display_data';\n",
              "          await google.colab.output.renderOutput(dataTable, element);\n",
              "          const docLink = document.createElement('div');\n",
              "          docLink.innerHTML = docLinkHtml;\n",
              "          element.appendChild(docLink);\n",
              "        }\n",
              "      </script>\n",
              "    </div>\n",
              "  </div>\n",
              "  "
            ]
          },
          "metadata": {},
          "execution_count": 5
        }
      ]
    },
    {
      "cell_type": "code",
      "source": [
        "ign_data.shape"
      ],
      "metadata": {
        "colab": {
          "base_uri": "https://localhost:8080/"
        },
        "id": "1Hvk3aCtdvnP",
        "outputId": "ed44d415-97fb-4a81-c4cd-fd36ce026308"
      },
      "execution_count": 6,
      "outputs": [
        {
          "output_type": "execute_result",
          "data": {
            "text/plain": [
              "(21, 12)"
            ]
          },
          "metadata": {},
          "execution_count": 6
        }
      ]
    },
    {
      "cell_type": "code",
      "source": [
        "ign_data.columns"
      ],
      "metadata": {
        "colab": {
          "base_uri": "https://localhost:8080/"
        },
        "id": "vGxk3-Xnd6DX",
        "outputId": "63199ec1-33d2-4b68-908b-09dc246e591b"
      },
      "execution_count": 7,
      "outputs": [
        {
          "output_type": "execute_result",
          "data": {
            "text/plain": [
              "Index(['Action', 'Action, Adventure', 'Adventure', 'Fighting', 'Platformer',\n",
              "       'Puzzle', 'RPG', 'Racing', 'Shooter', 'Simulation', 'Sports',\n",
              "       'Strategy'],\n",
              "      dtype='object')"
            ]
          },
          "metadata": {},
          "execution_count": 7
        }
      ]
    },
    {
      "cell_type": "code",
      "source": [
        "list(ign_data.index)"
      ],
      "metadata": {
        "colab": {
          "base_uri": "https://localhost:8080/"
        },
        "id": "INupVI0ld9cq",
        "outputId": "3040e342-6cea-48bb-f97f-3b32ca673ff5"
      },
      "execution_count": 9,
      "outputs": [
        {
          "output_type": "execute_result",
          "data": {
            "text/plain": [
              "['Dreamcast',\n",
              " 'Game Boy Advance',\n",
              " 'Game Boy Color',\n",
              " 'GameCube',\n",
              " 'Nintendo 3DS',\n",
              " 'Nintendo 64',\n",
              " 'Nintendo DS',\n",
              " 'Nintendo DSi',\n",
              " 'PC',\n",
              " 'PlayStation',\n",
              " 'PlayStation 2',\n",
              " 'PlayStation 3',\n",
              " 'PlayStation 4',\n",
              " 'PlayStation Portable',\n",
              " 'PlayStation Vita',\n",
              " 'Wii',\n",
              " 'Wireless',\n",
              " 'Xbox',\n",
              " 'Xbox 360',\n",
              " 'Xbox One',\n",
              " 'iPhone']"
            ]
          },
          "metadata": {},
          "execution_count": 9
        }
      ]
    },
    {
      "cell_type": "code",
      "source": [
        "ign_data.loc['PC']"
      ],
      "metadata": {
        "colab": {
          "base_uri": "https://localhost:8080/"
        },
        "id": "eqZ2LHR8eCrU",
        "outputId": "e438f055-7f50-4c15-bd19-cda16f68c5fd"
      },
      "execution_count": 14,
      "outputs": [
        {
          "output_type": "execute_result",
          "data": {
            "text/plain": [
              "Action               6.805791\n",
              "Action, Adventure    7.334746\n",
              "Adventure            7.136798\n",
              "Fighting             7.166667\n",
              "Platformer           7.410938\n",
              "Puzzle               6.924706\n",
              "RPG                  7.759930\n",
              "Racing               7.032418\n",
              "Shooter              7.084878\n",
              "Simulation           7.104889\n",
              "Sports               6.902424\n",
              "Strategy             7.310207\n",
              "Name: PC, dtype: float64"
            ]
          },
          "metadata": {},
          "execution_count": 14
        }
      ]
    },
    {
      "cell_type": "code",
      "source": [
        "ign_data.loc['PC'].max()"
      ],
      "metadata": {
        "colab": {
          "base_uri": "https://localhost:8080/"
        },
        "id": "kqbvKx1aeToM",
        "outputId": "0ffd81df-e23f-4f50-9b3d-97bf95666482"
      },
      "execution_count": 15,
      "outputs": [
        {
          "output_type": "execute_result",
          "data": {
            "text/plain": [
              "7.759930314"
            ]
          },
          "metadata": {},
          "execution_count": 15
        }
      ]
    },
    {
      "cell_type": "code",
      "source": [
        "ign_data.loc['PC'].min()"
      ],
      "metadata": {
        "colab": {
          "base_uri": "https://localhost:8080/"
        },
        "id": "HFezJwh0eXH3",
        "outputId": "3ea0aacc-0f21-4a74-9d43-1865a5bfebb7"
      },
      "execution_count": 16,
      "outputs": [
        {
          "output_type": "execute_result",
          "data": {
            "text/plain": [
              "6.805790646"
            ]
          },
          "metadata": {},
          "execution_count": 16
        }
      ]
    },
    {
      "cell_type": "code",
      "source": [
        "ign_data.loc['PlayStation Vita']"
      ],
      "metadata": {
        "colab": {
          "base_uri": "https://localhost:8080/"
        },
        "id": "ZBLdZHbmekVY",
        "outputId": "136ccbf1-749e-4474-907f-1ccb125d28f5"
      },
      "execution_count": 17,
      "outputs": [
        {
          "output_type": "execute_result",
          "data": {
            "text/plain": [
              "Action               7.173077\n",
              "Action, Adventure    6.133333\n",
              "Adventure            8.057143\n",
              "Fighting             7.527273\n",
              "Platformer           8.568750\n",
              "Puzzle               8.250000\n",
              "RPG                  7.337500\n",
              "Racing               6.300000\n",
              "Shooter              7.660000\n",
              "Simulation           5.725000\n",
              "Sports               7.130000\n",
              "Strategy             8.900000\n",
              "Name: PlayStation Vita, dtype: float64"
            ]
          },
          "metadata": {},
          "execution_count": 17
        }
      ]
    },
    {
      "cell_type": "code",
      "source": [
        "ign_data"
      ],
      "metadata": {
        "colab": {
          "base_uri": "https://localhost:8080/",
          "height": 835
        },
        "id": "xGSxXH3Teoxw",
        "outputId": "c60bcd3f-0b06-4c14-fea4-24502d5a7e0b"
      },
      "execution_count": 18,
      "outputs": [
        {
          "output_type": "execute_result",
          "data": {
            "text/plain": [
              "                        Action  Action, Adventure  Adventure  Fighting  \\\n",
              "Platform                                                                 \n",
              "Dreamcast             6.882857           7.511111   6.281818  8.200000   \n",
              "Game Boy Advance      6.373077           7.507692   6.057143  6.226316   \n",
              "Game Boy Color        6.272727           8.166667   5.307692  4.500000   \n",
              "GameCube              6.532584           7.608333   6.753846  7.422222   \n",
              "Nintendo 3DS          6.670833           7.481818   7.414286  6.614286   \n",
              "Nintendo 64           6.649057           8.250000   7.000000  5.681250   \n",
              "Nintendo DS           5.903608           7.240000   6.259804  6.320000   \n",
              "Nintendo DSi          6.827027           8.500000   6.090909  7.500000   \n",
              "PC                    6.805791           7.334746   7.136798  7.166667   \n",
              "PlayStation           6.016406           7.933333   6.313725  6.553731   \n",
              "PlayStation 2         6.467361           7.250000   6.315152  7.306349   \n",
              "PlayStation 3         6.853819           7.306154   6.820988  7.710938   \n",
              "PlayStation 4         7.550000           7.835294   7.388571  7.280000   \n",
              "PlayStation Portable  6.467797           7.000000   6.938095  6.822222   \n",
              "PlayStation Vita      7.173077           6.133333   8.057143  7.527273   \n",
              "Wii                   6.262718           7.294643   6.234043  6.733333   \n",
              "Wireless              7.041699           7.312500   6.972414  6.740000   \n",
              "Xbox                  6.819512           7.479032   6.821429  7.029630   \n",
              "Xbox 360              6.719048           7.137838   6.857353  7.552239   \n",
              "Xbox One              7.702857           7.566667   7.254545  7.171429   \n",
              "iPhone                6.865445           7.764286   7.745833  6.087500   \n",
              "\n",
              "                      Platformer    Puzzle       RPG    Racing   Shooter  \\\n",
              "Platform                                                                   \n",
              "Dreamcast               8.340000  8.088889  7.700000  7.042500  7.616667   \n",
              "Game Boy Advance        6.970588  6.532143  7.542857  6.657143  6.444444   \n",
              "Game Boy Color          6.352941  6.583333  7.285714  5.897436  4.500000   \n",
              "GameCube                6.665714  6.133333  7.890909  6.852632  6.981818   \n",
              "Nintendo 3DS            7.503448  8.000000  7.719231  6.900000  7.033333   \n",
              "Nintendo 64             6.889655  7.461538  6.050000  6.939623  8.042857   \n",
              "Nintendo DS             6.840000  6.604615  7.222619  6.038636  6.965217   \n",
              "Nintendo DSi            7.250000  6.810526  7.166667  6.563636  6.500000   \n",
              "PC                      7.410938  6.924706  7.759930  7.032418  7.084878   \n",
              "PlayStation             6.579070  6.757895  7.910000  6.773387  6.424000   \n",
              "PlayStation 2           7.068421  6.354545  7.473077  6.585065  6.641667   \n",
              "PlayStation 3           7.735714  7.350000  7.436111  6.978571  7.219553   \n",
              "PlayStation 4           8.390909  7.400000  7.944000  7.590000  7.804444   \n",
              "PlayStation Portable    7.194737  6.726667  6.817778  6.401961  7.071053   \n",
              "PlayStation Vita        8.568750  8.250000  7.337500  6.300000  7.660000   \n",
              "Wii                     7.054255  6.426984  7.410345  5.011667  6.479798   \n",
              "Wireless                7.509091  7.360550  8.260000  6.898305  6.906780   \n",
              "Xbox                    7.303448  5.125000  8.277778  7.021591  7.485417   \n",
              "Xbox 360                7.559574  7.141026  7.650000  6.996154  7.338153   \n",
              "Xbox One                6.733333  8.100000  8.291667  8.163636  8.020000   \n",
              "iPhone                  7.471930  7.810784  7.185185  7.315789  6.995588   \n",
              "\n",
              "                      Simulation    Sports  Strategy  \n",
              "Platform                                              \n",
              "Dreamcast               7.628571  7.272222  6.433333  \n",
              "Game Boy Advance        6.928571  6.694444  7.175000  \n",
              "Game Boy Color          5.900000  5.790698  7.400000  \n",
              "GameCube                8.028571  7.481319  7.116667  \n",
              "Nintendo 3DS            7.700000  6.388889  7.900000  \n",
              "Nintendo 64             5.675000  6.967857  6.900000  \n",
              "Nintendo DS             5.874359  5.936667  6.644737  \n",
              "Nintendo DSi            5.195652  5.644444  6.566667  \n",
              "PC                      7.104889  6.902424  7.310207  \n",
              "PlayStation             6.918182  6.751220  6.496875  \n",
              "PlayStation 2           7.152632  7.197826  7.238889  \n",
              "PlayStation 3           7.142857  7.485816  7.355172  \n",
              "PlayStation 4           9.250000  7.430000  6.566667  \n",
              "PlayStation Portable    6.761538  6.956790  6.550000  \n",
              "PlayStation Vita        5.725000  7.130000  8.900000  \n",
              "Wii                     6.327027  5.966901  6.975000  \n",
              "Wireless                7.802857  7.417699  7.542857  \n",
              "Xbox                    7.155556  7.884397  7.313333  \n",
              "Xbox 360                7.325000  7.317857  7.112245  \n",
              "Xbox One                7.733333  7.331818  8.500000  \n",
              "iPhone                  7.328571  7.152174  7.534921  "
            ],
            "text/html": [
              "\n",
              "  <div id=\"df-2584157f-204e-45a2-bfd3-c3e4fba3b924\">\n",
              "    <div class=\"colab-df-container\">\n",
              "      <div>\n",
              "<style scoped>\n",
              "    .dataframe tbody tr th:only-of-type {\n",
              "        vertical-align: middle;\n",
              "    }\n",
              "\n",
              "    .dataframe tbody tr th {\n",
              "        vertical-align: top;\n",
              "    }\n",
              "\n",
              "    .dataframe thead th {\n",
              "        text-align: right;\n",
              "    }\n",
              "</style>\n",
              "<table border=\"1\" class=\"dataframe\">\n",
              "  <thead>\n",
              "    <tr style=\"text-align: right;\">\n",
              "      <th></th>\n",
              "      <th>Action</th>\n",
              "      <th>Action, Adventure</th>\n",
              "      <th>Adventure</th>\n",
              "      <th>Fighting</th>\n",
              "      <th>Platformer</th>\n",
              "      <th>Puzzle</th>\n",
              "      <th>RPG</th>\n",
              "      <th>Racing</th>\n",
              "      <th>Shooter</th>\n",
              "      <th>Simulation</th>\n",
              "      <th>Sports</th>\n",
              "      <th>Strategy</th>\n",
              "    </tr>\n",
              "    <tr>\n",
              "      <th>Platform</th>\n",
              "      <th></th>\n",
              "      <th></th>\n",
              "      <th></th>\n",
              "      <th></th>\n",
              "      <th></th>\n",
              "      <th></th>\n",
              "      <th></th>\n",
              "      <th></th>\n",
              "      <th></th>\n",
              "      <th></th>\n",
              "      <th></th>\n",
              "      <th></th>\n",
              "    </tr>\n",
              "  </thead>\n",
              "  <tbody>\n",
              "    <tr>\n",
              "      <th>Dreamcast</th>\n",
              "      <td>6.882857</td>\n",
              "      <td>7.511111</td>\n",
              "      <td>6.281818</td>\n",
              "      <td>8.200000</td>\n",
              "      <td>8.340000</td>\n",
              "      <td>8.088889</td>\n",
              "      <td>7.700000</td>\n",
              "      <td>7.042500</td>\n",
              "      <td>7.616667</td>\n",
              "      <td>7.628571</td>\n",
              "      <td>7.272222</td>\n",
              "      <td>6.433333</td>\n",
              "    </tr>\n",
              "    <tr>\n",
              "      <th>Game Boy Advance</th>\n",
              "      <td>6.373077</td>\n",
              "      <td>7.507692</td>\n",
              "      <td>6.057143</td>\n",
              "      <td>6.226316</td>\n",
              "      <td>6.970588</td>\n",
              "      <td>6.532143</td>\n",
              "      <td>7.542857</td>\n",
              "      <td>6.657143</td>\n",
              "      <td>6.444444</td>\n",
              "      <td>6.928571</td>\n",
              "      <td>6.694444</td>\n",
              "      <td>7.175000</td>\n",
              "    </tr>\n",
              "    <tr>\n",
              "      <th>Game Boy Color</th>\n",
              "      <td>6.272727</td>\n",
              "      <td>8.166667</td>\n",
              "      <td>5.307692</td>\n",
              "      <td>4.500000</td>\n",
              "      <td>6.352941</td>\n",
              "      <td>6.583333</td>\n",
              "      <td>7.285714</td>\n",
              "      <td>5.897436</td>\n",
              "      <td>4.500000</td>\n",
              "      <td>5.900000</td>\n",
              "      <td>5.790698</td>\n",
              "      <td>7.400000</td>\n",
              "    </tr>\n",
              "    <tr>\n",
              "      <th>GameCube</th>\n",
              "      <td>6.532584</td>\n",
              "      <td>7.608333</td>\n",
              "      <td>6.753846</td>\n",
              "      <td>7.422222</td>\n",
              "      <td>6.665714</td>\n",
              "      <td>6.133333</td>\n",
              "      <td>7.890909</td>\n",
              "      <td>6.852632</td>\n",
              "      <td>6.981818</td>\n",
              "      <td>8.028571</td>\n",
              "      <td>7.481319</td>\n",
              "      <td>7.116667</td>\n",
              "    </tr>\n",
              "    <tr>\n",
              "      <th>Nintendo 3DS</th>\n",
              "      <td>6.670833</td>\n",
              "      <td>7.481818</td>\n",
              "      <td>7.414286</td>\n",
              "      <td>6.614286</td>\n",
              "      <td>7.503448</td>\n",
              "      <td>8.000000</td>\n",
              "      <td>7.719231</td>\n",
              "      <td>6.900000</td>\n",
              "      <td>7.033333</td>\n",
              "      <td>7.700000</td>\n",
              "      <td>6.388889</td>\n",
              "      <td>7.900000</td>\n",
              "    </tr>\n",
              "    <tr>\n",
              "      <th>Nintendo 64</th>\n",
              "      <td>6.649057</td>\n",
              "      <td>8.250000</td>\n",
              "      <td>7.000000</td>\n",
              "      <td>5.681250</td>\n",
              "      <td>6.889655</td>\n",
              "      <td>7.461538</td>\n",
              "      <td>6.050000</td>\n",
              "      <td>6.939623</td>\n",
              "      <td>8.042857</td>\n",
              "      <td>5.675000</td>\n",
              "      <td>6.967857</td>\n",
              "      <td>6.900000</td>\n",
              "    </tr>\n",
              "    <tr>\n",
              "      <th>Nintendo DS</th>\n",
              "      <td>5.903608</td>\n",
              "      <td>7.240000</td>\n",
              "      <td>6.259804</td>\n",
              "      <td>6.320000</td>\n",
              "      <td>6.840000</td>\n",
              "      <td>6.604615</td>\n",
              "      <td>7.222619</td>\n",
              "      <td>6.038636</td>\n",
              "      <td>6.965217</td>\n",
              "      <td>5.874359</td>\n",
              "      <td>5.936667</td>\n",
              "      <td>6.644737</td>\n",
              "    </tr>\n",
              "    <tr>\n",
              "      <th>Nintendo DSi</th>\n",
              "      <td>6.827027</td>\n",
              "      <td>8.500000</td>\n",
              "      <td>6.090909</td>\n",
              "      <td>7.500000</td>\n",
              "      <td>7.250000</td>\n",
              "      <td>6.810526</td>\n",
              "      <td>7.166667</td>\n",
              "      <td>6.563636</td>\n",
              "      <td>6.500000</td>\n",
              "      <td>5.195652</td>\n",
              "      <td>5.644444</td>\n",
              "      <td>6.566667</td>\n",
              "    </tr>\n",
              "    <tr>\n",
              "      <th>PC</th>\n",
              "      <td>6.805791</td>\n",
              "      <td>7.334746</td>\n",
              "      <td>7.136798</td>\n",
              "      <td>7.166667</td>\n",
              "      <td>7.410938</td>\n",
              "      <td>6.924706</td>\n",
              "      <td>7.759930</td>\n",
              "      <td>7.032418</td>\n",
              "      <td>7.084878</td>\n",
              "      <td>7.104889</td>\n",
              "      <td>6.902424</td>\n",
              "      <td>7.310207</td>\n",
              "    </tr>\n",
              "    <tr>\n",
              "      <th>PlayStation</th>\n",
              "      <td>6.016406</td>\n",
              "      <td>7.933333</td>\n",
              "      <td>6.313725</td>\n",
              "      <td>6.553731</td>\n",
              "      <td>6.579070</td>\n",
              "      <td>6.757895</td>\n",
              "      <td>7.910000</td>\n",
              "      <td>6.773387</td>\n",
              "      <td>6.424000</td>\n",
              "      <td>6.918182</td>\n",
              "      <td>6.751220</td>\n",
              "      <td>6.496875</td>\n",
              "    </tr>\n",
              "    <tr>\n",
              "      <th>PlayStation 2</th>\n",
              "      <td>6.467361</td>\n",
              "      <td>7.250000</td>\n",
              "      <td>6.315152</td>\n",
              "      <td>7.306349</td>\n",
              "      <td>7.068421</td>\n",
              "      <td>6.354545</td>\n",
              "      <td>7.473077</td>\n",
              "      <td>6.585065</td>\n",
              "      <td>6.641667</td>\n",
              "      <td>7.152632</td>\n",
              "      <td>7.197826</td>\n",
              "      <td>7.238889</td>\n",
              "    </tr>\n",
              "    <tr>\n",
              "      <th>PlayStation 3</th>\n",
              "      <td>6.853819</td>\n",
              "      <td>7.306154</td>\n",
              "      <td>6.820988</td>\n",
              "      <td>7.710938</td>\n",
              "      <td>7.735714</td>\n",
              "      <td>7.350000</td>\n",
              "      <td>7.436111</td>\n",
              "      <td>6.978571</td>\n",
              "      <td>7.219553</td>\n",
              "      <td>7.142857</td>\n",
              "      <td>7.485816</td>\n",
              "      <td>7.355172</td>\n",
              "    </tr>\n",
              "    <tr>\n",
              "      <th>PlayStation 4</th>\n",
              "      <td>7.550000</td>\n",
              "      <td>7.835294</td>\n",
              "      <td>7.388571</td>\n",
              "      <td>7.280000</td>\n",
              "      <td>8.390909</td>\n",
              "      <td>7.400000</td>\n",
              "      <td>7.944000</td>\n",
              "      <td>7.590000</td>\n",
              "      <td>7.804444</td>\n",
              "      <td>9.250000</td>\n",
              "      <td>7.430000</td>\n",
              "      <td>6.566667</td>\n",
              "    </tr>\n",
              "    <tr>\n",
              "      <th>PlayStation Portable</th>\n",
              "      <td>6.467797</td>\n",
              "      <td>7.000000</td>\n",
              "      <td>6.938095</td>\n",
              "      <td>6.822222</td>\n",
              "      <td>7.194737</td>\n",
              "      <td>6.726667</td>\n",
              "      <td>6.817778</td>\n",
              "      <td>6.401961</td>\n",
              "      <td>7.071053</td>\n",
              "      <td>6.761538</td>\n",
              "      <td>6.956790</td>\n",
              "      <td>6.550000</td>\n",
              "    </tr>\n",
              "    <tr>\n",
              "      <th>PlayStation Vita</th>\n",
              "      <td>7.173077</td>\n",
              "      <td>6.133333</td>\n",
              "      <td>8.057143</td>\n",
              "      <td>7.527273</td>\n",
              "      <td>8.568750</td>\n",
              "      <td>8.250000</td>\n",
              "      <td>7.337500</td>\n",
              "      <td>6.300000</td>\n",
              "      <td>7.660000</td>\n",
              "      <td>5.725000</td>\n",
              "      <td>7.130000</td>\n",
              "      <td>8.900000</td>\n",
              "    </tr>\n",
              "    <tr>\n",
              "      <th>Wii</th>\n",
              "      <td>6.262718</td>\n",
              "      <td>7.294643</td>\n",
              "      <td>6.234043</td>\n",
              "      <td>6.733333</td>\n",
              "      <td>7.054255</td>\n",
              "      <td>6.426984</td>\n",
              "      <td>7.410345</td>\n",
              "      <td>5.011667</td>\n",
              "      <td>6.479798</td>\n",
              "      <td>6.327027</td>\n",
              "      <td>5.966901</td>\n",
              "      <td>6.975000</td>\n",
              "    </tr>\n",
              "    <tr>\n",
              "      <th>Wireless</th>\n",
              "      <td>7.041699</td>\n",
              "      <td>7.312500</td>\n",
              "      <td>6.972414</td>\n",
              "      <td>6.740000</td>\n",
              "      <td>7.509091</td>\n",
              "      <td>7.360550</td>\n",
              "      <td>8.260000</td>\n",
              "      <td>6.898305</td>\n",
              "      <td>6.906780</td>\n",
              "      <td>7.802857</td>\n",
              "      <td>7.417699</td>\n",
              "      <td>7.542857</td>\n",
              "    </tr>\n",
              "    <tr>\n",
              "      <th>Xbox</th>\n",
              "      <td>6.819512</td>\n",
              "      <td>7.479032</td>\n",
              "      <td>6.821429</td>\n",
              "      <td>7.029630</td>\n",
              "      <td>7.303448</td>\n",
              "      <td>5.125000</td>\n",
              "      <td>8.277778</td>\n",
              "      <td>7.021591</td>\n",
              "      <td>7.485417</td>\n",
              "      <td>7.155556</td>\n",
              "      <td>7.884397</td>\n",
              "      <td>7.313333</td>\n",
              "    </tr>\n",
              "    <tr>\n",
              "      <th>Xbox 360</th>\n",
              "      <td>6.719048</td>\n",
              "      <td>7.137838</td>\n",
              "      <td>6.857353</td>\n",
              "      <td>7.552239</td>\n",
              "      <td>7.559574</td>\n",
              "      <td>7.141026</td>\n",
              "      <td>7.650000</td>\n",
              "      <td>6.996154</td>\n",
              "      <td>7.338153</td>\n",
              "      <td>7.325000</td>\n",
              "      <td>7.317857</td>\n",
              "      <td>7.112245</td>\n",
              "    </tr>\n",
              "    <tr>\n",
              "      <th>Xbox One</th>\n",
              "      <td>7.702857</td>\n",
              "      <td>7.566667</td>\n",
              "      <td>7.254545</td>\n",
              "      <td>7.171429</td>\n",
              "      <td>6.733333</td>\n",
              "      <td>8.100000</td>\n",
              "      <td>8.291667</td>\n",
              "      <td>8.163636</td>\n",
              "      <td>8.020000</td>\n",
              "      <td>7.733333</td>\n",
              "      <td>7.331818</td>\n",
              "      <td>8.500000</td>\n",
              "    </tr>\n",
              "    <tr>\n",
              "      <th>iPhone</th>\n",
              "      <td>6.865445</td>\n",
              "      <td>7.764286</td>\n",
              "      <td>7.745833</td>\n",
              "      <td>6.087500</td>\n",
              "      <td>7.471930</td>\n",
              "      <td>7.810784</td>\n",
              "      <td>7.185185</td>\n",
              "      <td>7.315789</td>\n",
              "      <td>6.995588</td>\n",
              "      <td>7.328571</td>\n",
              "      <td>7.152174</td>\n",
              "      <td>7.534921</td>\n",
              "    </tr>\n",
              "  </tbody>\n",
              "</table>\n",
              "</div>\n",
              "      <button class=\"colab-df-convert\" onclick=\"convertToInteractive('df-2584157f-204e-45a2-bfd3-c3e4fba3b924')\"\n",
              "              title=\"Convert this dataframe to an interactive table.\"\n",
              "              style=\"display:none;\">\n",
              "        \n",
              "  <svg xmlns=\"http://www.w3.org/2000/svg\" height=\"24px\"viewBox=\"0 0 24 24\"\n",
              "       width=\"24px\">\n",
              "    <path d=\"M0 0h24v24H0V0z\" fill=\"none\"/>\n",
              "    <path d=\"M18.56 5.44l.94 2.06.94-2.06 2.06-.94-2.06-.94-.94-2.06-.94 2.06-2.06.94zm-11 1L8.5 8.5l.94-2.06 2.06-.94-2.06-.94L8.5 2.5l-.94 2.06-2.06.94zm10 10l.94 2.06.94-2.06 2.06-.94-2.06-.94-.94-2.06-.94 2.06-2.06.94z\"/><path d=\"M17.41 7.96l-1.37-1.37c-.4-.4-.92-.59-1.43-.59-.52 0-1.04.2-1.43.59L10.3 9.45l-7.72 7.72c-.78.78-.78 2.05 0 2.83L4 21.41c.39.39.9.59 1.41.59.51 0 1.02-.2 1.41-.59l7.78-7.78 2.81-2.81c.8-.78.8-2.07 0-2.86zM5.41 20L4 18.59l7.72-7.72 1.47 1.35L5.41 20z\"/>\n",
              "  </svg>\n",
              "      </button>\n",
              "      \n",
              "  <style>\n",
              "    .colab-df-container {\n",
              "      display:flex;\n",
              "      flex-wrap:wrap;\n",
              "      gap: 12px;\n",
              "    }\n",
              "\n",
              "    .colab-df-convert {\n",
              "      background-color: #E8F0FE;\n",
              "      border: none;\n",
              "      border-radius: 50%;\n",
              "      cursor: pointer;\n",
              "      display: none;\n",
              "      fill: #1967D2;\n",
              "      height: 32px;\n",
              "      padding: 0 0 0 0;\n",
              "      width: 32px;\n",
              "    }\n",
              "\n",
              "    .colab-df-convert:hover {\n",
              "      background-color: #E2EBFA;\n",
              "      box-shadow: 0px 1px 2px rgba(60, 64, 67, 0.3), 0px 1px 3px 1px rgba(60, 64, 67, 0.15);\n",
              "      fill: #174EA6;\n",
              "    }\n",
              "\n",
              "    [theme=dark] .colab-df-convert {\n",
              "      background-color: #3B4455;\n",
              "      fill: #D2E3FC;\n",
              "    }\n",
              "\n",
              "    [theme=dark] .colab-df-convert:hover {\n",
              "      background-color: #434B5C;\n",
              "      box-shadow: 0px 1px 3px 1px rgba(0, 0, 0, 0.15);\n",
              "      filter: drop-shadow(0px 1px 2px rgba(0, 0, 0, 0.3));\n",
              "      fill: #FFFFFF;\n",
              "    }\n",
              "  </style>\n",
              "\n",
              "      <script>\n",
              "        const buttonEl =\n",
              "          document.querySelector('#df-2584157f-204e-45a2-bfd3-c3e4fba3b924 button.colab-df-convert');\n",
              "        buttonEl.style.display =\n",
              "          google.colab.kernel.accessAllowed ? 'block' : 'none';\n",
              "\n",
              "        async function convertToInteractive(key) {\n",
              "          const element = document.querySelector('#df-2584157f-204e-45a2-bfd3-c3e4fba3b924');\n",
              "          const dataTable =\n",
              "            await google.colab.kernel.invokeFunction('convertToInteractive',\n",
              "                                                     [key], {});\n",
              "          if (!dataTable) return;\n",
              "\n",
              "          const docLinkHtml = 'Like what you see? Visit the ' +\n",
              "            '<a target=\"_blank\" href=https://colab.research.google.com/notebooks/data_table.ipynb>data table notebook</a>'\n",
              "            + ' to learn more about interactive tables.';\n",
              "          element.innerHTML = '';\n",
              "          dataTable['output_type'] = 'display_data';\n",
              "          await google.colab.output.renderOutput(dataTable, element);\n",
              "          const docLink = document.createElement('div');\n",
              "          docLink.innerHTML = docLinkHtml;\n",
              "          element.appendChild(docLink);\n",
              "        }\n",
              "      </script>\n",
              "    </div>\n",
              "  </div>\n",
              "  "
            ]
          },
          "metadata": {},
          "execution_count": 18
        }
      ]
    },
    {
      "cell_type": "markdown",
      "source": [
        "Create a bar chart that shows the average score for racing games, for each platform. Your chart should have one bar for each platform."
      ],
      "metadata": {
        "id": "drpP5LpkfkH_"
      }
    },
    {
      "cell_type": "code",
      "source": [
        "# Set the width and height of the figure\n",
        "plt.figure(figsize=(8, 6))\n",
        "# Bar chart showing average score for racing games by platform\n",
        "sns.barplot(x=ign_data['Racing'], y=ign_data.index)\n",
        "# Add label for horizontal axis\n",
        "plt.xlabel(\"\")\n",
        "# Add label for vertical axis\n",
        "plt.title(\"Average Score for Racing Games, by Platform\")"
      ],
      "metadata": {
        "colab": {
          "base_uri": "https://localhost:8080/",
          "height": 408
        },
        "id": "5FUX9xIHfkmI",
        "outputId": "5d1e4674-8f56-46db-d792-7db6bf0e712d"
      },
      "execution_count": 21,
      "outputs": [
        {
          "output_type": "execute_result",
          "data": {
            "text/plain": [
              "Text(0.5, 1.0, 'Average Score for Racing Games, by Platform')"
            ]
          },
          "metadata": {},
          "execution_count": 21
        },
        {
          "output_type": "display_data",
          "data": {
            "text/plain": [
              "<Figure size 576x432 with 1 Axes>"
            ],
            "image/png": "[encoded data removed]"
          },
          "metadata": {
            "needs_background": "light"
          }
        }
      ]
    },
    {
      "cell_type": "code",
      "source": [
        "ign_data.loc[:, 'Racing']"
      ],
      "metadata": {
        "colab": {
          "base_uri": "https://localhost:8080/"
        },
        "id": "RXhtaIoTfz9S",
        "outputId": "9341d658-7c83-4303-b9e2-caba0afecdbc"
      },
      "execution_count": 23,
      "outputs": [
        {
          "output_type": "execute_result",
          "data": {
            "text/plain": [
              "Platform\n",
              "Dreamcast               7.042500\n",
              "Game Boy Advance        6.657143\n",
              "Game Boy Color          5.897436\n",
              "GameCube                6.852632\n",
              "Nintendo 3DS            6.900000\n",
              "Nintendo 64             6.939623\n",
              "Nintendo DS             6.038636\n",
              "Nintendo DSi            6.563636\n",
              "PC                      7.032418\n",
              "PlayStation             6.773387\n",
              "PlayStation 2           6.585065\n",
              "PlayStation 3           6.978571\n",
              "PlayStation 4           7.590000\n",
              "PlayStation Portable    6.401961\n",
              "PlayStation Vita        6.300000\n",
              "Wii                     5.011667\n",
              "Wireless                6.898305\n",
              "Xbox                    7.021591\n",
              "Xbox 360                6.996154\n",
              "Xbox One                8.163636\n",
              "iPhone                  7.315789\n",
              "Name: Racing, dtype: float64"
            ]
          },
          "metadata": {},
          "execution_count": 23
        }
      ]
    },
    {
      "cell_type": "markdown",
      "source": [
        "Eventually, you decide against creating a racing game for Wii, but you're still committed to creating your own video game! Since your gaming interests are pretty broad (... you generally love most video games), you decide to use the IGN data to inform your new choice of genre and platform."
      ],
      "metadata": {
        "id": "pifnynr7g99p"
      }
    },
    {
      "cell_type": "code",
      "source": [
        "# Set the width and height of the figure\n",
        "plt.figure(figsize=(10,10))\n",
        "# Heatmap showing average game score by platform and genre\n",
        "sns.heatmap(ign_data, annot=True)\n",
        "# Add label for horizontal axis\n",
        "plt.xlabel(\"Genre\")\n",
        "# Add label for vertical axis\n",
        "plt.title(\"Average Game Score, by Platform and Genre\")"
      ],
      "metadata": {
        "colab": {
          "base_uri": "https://localhost:8080/",
          "height": 719
        },
        "id": "qBaZkflFgvqd",
        "outputId": "c8acefaf-cd83-4b40-831c-5c252e6421b1"
      },
      "execution_count": 24,
      "outputs": [
        {
          "output_type": "execute_result",
          "data": {
            "text/plain": [
              "Text(0.5, 1.0, 'Average Game Score, by Platform and Genre')"
            ]
          },
          "metadata": {},
          "execution_count": 24
        },
        {
          "output_type": "display_data",
          "data": {
            "text/plain": [
              "<Figure size 720x720 with 2 Axes>"
            ],
            "image/png": "[encoded data removed]"
          },
          "metadata": {
            "needs_background": "light"
          }
        }
      ]
    },
    {
      "cell_type": "markdown",
      "source": [
        "Simulation games for Playstation 4 receive the highest average ratings (9.2). Shooting and Fighting games for Game Boy Color receive the lowest average rankings (4.5)."
      ],
      "metadata": {
        "id": "UaFUElrjg6QL"
      }
    },
    {
      "cell_type": "code",
      "source": [
        "plt.figure(figsize= (10, 10))\n",
        "sns.barplot(data= ign_data, x= ign_data['Action'], y=ign_data.index)\n",
        "plt.ylabel('Platoforms')\n",
        "plt.xlabel('Action Rating')\n",
        "plt.title('Action games rating in various Platforms')"
      ],
      "metadata": {
        "colab": {
          "base_uri": "https://localhost:8080/",
          "height": 639
        },
        "id": "oP1HgZ7OhH6L",
        "outputId": "51488f4a-b84c-4bda-a6cb-2c7ddad71d37"
      },
      "execution_count": 27,
      "outputs": [
        {
          "output_type": "execute_result",
          "data": {
            "text/plain": [
              "Text(0.5, 1.0, 'Action games rating in various Platforms')"
            ]
          },
          "metadata": {},
          "execution_count": 27
        },
        {
          "output_type": "display_data",
          "data": {
            "text/plain": [
              "<Figure size 720x720 with 1 Axes>"
            ],
            "image/png": "[encoded data removed]"
          },
          "metadata": {
            "needs_background": "light"
          }
        }
      ]
    },
    {
      "cell_type": "code",
      "source": [
        "plt.figure(figsize= (10, 10))\n",
        "sns.barplot(data= ign_data, y= ign_data['Action'], x=ign_data.index)\n",
        "plt.xlabel('Platoforms')\n",
        "plt.ylabel('Action games Rating')\n",
        "plt.title('Action games rating in various platforms')"
      ],
      "metadata": {
        "colab": {
          "base_uri": "https://localhost:8080/",
          "height": 639
        },
        "id": "P2fR2emMhlBo",
        "outputId": "7ff916d3-bcac-4045-fc24-a3aadc6f6857"
      },
      "execution_count": 28,
      "outputs": [
        {
          "output_type": "execute_result",
          "data": {
            "text/plain": [
              "Text(0.5, 1.0, 'Action games rating in various platforms')"
            ]
          },
          "metadata": {},
          "execution_count": 28
        },
        {
          "output_type": "display_data",
          "data": {
            "text/plain": [
              "<Figure size 720x720 with 1 Axes>"
            ],
            "image/png": "[encoded data removed]"
          },
          "metadata": {
            "needs_background": "light"
          }
        }
      ]
    }
  ]
}